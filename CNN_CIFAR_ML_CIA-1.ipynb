{
 "cells": [
  {
   "cell_type": "code",
   "execution_count": 12,
   "id": "815c9f41",
   "metadata": {},
   "outputs": [],
   "source": [
    "import numpy as np\n",
    "import matplotlib.pyplot as plt \n",
    "import tensorflow as tf\n",
    "from tensorflow.keras.layers import Conv2D, MaxPooling2D, Dense, Flatten, Dropout"
   ]
  },
  {
   "cell_type": "code",
   "execution_count": 13,
   "id": "2e81603f",
   "metadata": {},
   "outputs": [],
   "source": [
    "(x_train, y_train), (x_test, y_test) = tf.keras.datasets.cifar10.load_data()"
   ]
  },
  {
   "cell_type": "code",
   "execution_count": 14,
   "id": "aa15f2ea",
   "metadata": {},
   "outputs": [
    {
     "data": {
      "text/plain": [
       "(50000, 32, 32, 3)"
      ]
     },
     "execution_count": 14,
     "metadata": {},
     "output_type": "execute_result"
    }
   ],
   "source": [
    "x_train.shape"
   ]
  },
  {
   "cell_type": "code",
   "execution_count": 15,
   "id": "a0a8d0ff",
   "metadata": {},
   "outputs": [],
   "source": [
    "x_train = x_train.reshape((50000 , 32 , 32 , 3))\n",
    "x_test = x_test.reshape((10000 , 32 , 32 , 3))"
   ]
  },
  {
   "cell_type": "code",
   "execution_count": 17,
   "id": "c3b11cd4",
   "metadata": {},
   "outputs": [],
   "source": [
    "x_train = x_train.astype('float32')/255\n",
    "x_test = x_test.astype('float32')/255"
   ]
  },
  {
   "cell_type": "code",
   "execution_count": 18,
   "id": "4f05796e",
   "metadata": {},
   "outputs": [],
   "source": [
    "from tensorflow.keras.utils import to_categorical"
   ]
  },
  {
   "cell_type": "code",
   "execution_count": 19,
   "id": "ddd49541",
   "metadata": {},
   "outputs": [],
   "source": [
    "y_train = to_categorical(y_train)\n",
    "y_test = to_categorical(y_test)"
   ]
  },
  {
   "cell_type": "code",
   "execution_count": 20,
   "id": "0c3d0bce",
   "metadata": {},
   "outputs": [],
   "source": [
    "model = tf.keras.Sequential()"
   ]
  },
  {
   "cell_type": "code",
   "execution_count": 21,
   "id": "bb8f88e8",
   "metadata": {},
   "outputs": [],
   "source": [
    "model.add(Conv2D(32, (3, 3), activation='relu', padding='same', input_shape=(32, 32, 3)))\n",
    "model.add(MaxPooling2D((2, 2)))"
   ]
  },
  {
   "cell_type": "code",
   "execution_count": 22,
   "id": "9c766514",
   "metadata": {},
   "outputs": [],
   "source": [
    "model.add(Conv2D(64, (3, 3), activation='relu',  padding='same'))\n",
    "model.add(MaxPooling2D((2, 2)))"
   ]
  },
  {
   "cell_type": "code",
   "execution_count": 23,
   "id": "877b1781",
   "metadata": {},
   "outputs": [],
   "source": [
    "model.add(Conv2D(128, (3, 3), activation='relu',  padding='same'))\n",
    "model.add(MaxPooling2D((2, 2)))"
   ]
  },
  {
   "cell_type": "code",
   "execution_count": 24,
   "id": "844b76fa",
   "metadata": {},
   "outputs": [],
   "source": [
    "model.add(Flatten())\n",
    "model.add(Dense(256, activation='relu'))"
   ]
  },
  {
   "cell_type": "code",
   "execution_count": 25,
   "id": "21067c37",
   "metadata": {},
   "outputs": [],
   "source": [
    "model.add(Dropout(0.5))\n",
    "model.add(Dense(10, activation='softmax'))"
   ]
  },
  {
   "cell_type": "code",
   "execution_count": 28,
   "id": "8e36a55a",
   "metadata": {},
   "outputs": [],
   "source": [
    "model.compile(loss ='categorical_crossentropy' , optimizer = 'adam' , metrics = ['accuracy'])"
   ]
  },
  {
   "cell_type": "code",
   "execution_count": 29,
   "id": "286ce60f",
   "metadata": {},
   "outputs": [
    {
     "name": "stdout",
     "output_type": "stream",
     "text": [
      "Model: \"sequential_1\"\n",
      "_________________________________________________________________\n",
      " Layer (type)                Output Shape              Param #   \n",
      "=================================================================\n",
      " conv2d (Conv2D)             (None, 32, 32, 32)        896       \n",
      "                                                                 \n",
      " max_pooling2d (MaxPooling2D  (None, 16, 16, 32)       0         \n",
      " )                                                               \n",
      "                                                                 \n",
      " conv2d_1 (Conv2D)           (None, 16, 16, 64)        18496     \n",
      "                                                                 \n",
      " max_pooling2d_1 (MaxPooling  (None, 8, 8, 64)         0         \n",
      " 2D)                                                             \n",
      "                                                                 \n",
      " conv2d_2 (Conv2D)           (None, 8, 8, 128)         73856     \n",
      "                                                                 \n",
      " max_pooling2d_2 (MaxPooling  (None, 4, 4, 128)        0         \n",
      " 2D)                                                             \n",
      "                                                                 \n",
      " flatten (Flatten)           (None, 2048)              0         \n",
      "                                                                 \n",
      " dense (Dense)               (None, 256)               524544    \n",
      "                                                                 \n",
      " dropout (Dropout)           (None, 256)               0         \n",
      "                                                                 \n",
      " dense_1 (Dense)             (None, 10)                2570      \n",
      "                                                                 \n",
      "=================================================================\n",
      "Total params: 620,362\n",
      "Trainable params: 620,362\n",
      "Non-trainable params: 0\n",
      "_________________________________________________________________\n"
     ]
    }
   ],
   "source": [
    "model.summary()"
   ]
  },
  {
   "cell_type": "code",
   "execution_count": 35,
   "id": "b77328ea",
   "metadata": {
    "scrolled": false
   },
   "outputs": [
    {
     "name": "stdout",
     "output_type": "stream",
     "text": [
      "Epoch 1/100\n",
      "1407/1407 [==============================] - 20s 14ms/step - loss: 0.6809 - accuracy: 0.7571 - val_loss: 0.8935 - val_accuracy: 0.7028\n",
      "Epoch 2/100\n",
      "1407/1407 [==============================] - 21s 15ms/step - loss: 0.6492 - accuracy: 0.7669 - val_loss: 1.1948 - val_accuracy: 0.6112\n",
      "Epoch 3/100\n",
      "1407/1407 [==============================] - 21s 15ms/step - loss: 0.6182 - accuracy: 0.7781 - val_loss: 0.8271 - val_accuracy: 0.7238\n",
      "Epoch 4/100\n",
      "1407/1407 [==============================] - 20s 14ms/step - loss: 0.5992 - accuracy: 0.7854 - val_loss: 0.8723 - val_accuracy: 0.7150\n",
      "Epoch 5/100\n",
      "1407/1407 [==============================] - 20s 14ms/step - loss: 0.5769 - accuracy: 0.7936 - val_loss: 0.9522 - val_accuracy: 0.6982\n",
      "Epoch 6/100\n",
      "1407/1407 [==============================] - 20s 14ms/step - loss: 0.5510 - accuracy: 0.8011 - val_loss: 0.8857 - val_accuracy: 0.7166\n",
      "Epoch 7/100\n",
      "1407/1407 [==============================] - 20s 14ms/step - loss: 0.5381 - accuracy: 0.8064 - val_loss: 0.8881 - val_accuracy: 0.7176\n",
      "Epoch 8/100\n",
      "1407/1407 [==============================] - 22s 15ms/step - loss: 0.5187 - accuracy: 0.8127 - val_loss: 0.8423 - val_accuracy: 0.7336\n",
      "Epoch 9/100\n",
      "1407/1407 [==============================] - 20s 14ms/step - loss: 0.4953 - accuracy: 0.8224 - val_loss: 0.8221 - val_accuracy: 0.7422\n",
      "Epoch 10/100\n",
      "1407/1407 [==============================] - 20s 14ms/step - loss: 0.4795 - accuracy: 0.8279 - val_loss: 0.8413 - val_accuracy: 0.7358\n",
      "Epoch 11/100\n",
      "1407/1407 [==============================] - 20s 14ms/step - loss: 0.4579 - accuracy: 0.8337 - val_loss: 0.9349 - val_accuracy: 0.7194\n",
      "Epoch 12/100\n",
      "1407/1407 [==============================] - 20s 14ms/step - loss: 0.4429 - accuracy: 0.8417 - val_loss: 0.8956 - val_accuracy: 0.7292\n",
      "Epoch 13/100\n",
      "1407/1407 [==============================] - 20s 14ms/step - loss: 0.4260 - accuracy: 0.8443 - val_loss: 0.8482 - val_accuracy: 0.7426\n",
      "Epoch 14/100\n",
      "1407/1407 [==============================] - 20s 14ms/step - loss: 0.4141 - accuracy: 0.8511 - val_loss: 0.8453 - val_accuracy: 0.7504\n",
      "Epoch 15/100\n",
      "1407/1407 [==============================] - 20s 14ms/step - loss: 0.4027 - accuracy: 0.8547 - val_loss: 0.9699 - val_accuracy: 0.7178\n",
      "Epoch 16/100\n",
      "1407/1407 [==============================] - 20s 14ms/step - loss: 0.3843 - accuracy: 0.8604 - val_loss: 0.8827 - val_accuracy: 0.7374\n",
      "Epoch 17/100\n",
      "1407/1407 [==============================] - 20s 14ms/step - loss: 0.3683 - accuracy: 0.8674 - val_loss: 0.9104 - val_accuracy: 0.7358\n",
      "Epoch 18/100\n",
      "1407/1407 [==============================] - 20s 14ms/step - loss: 0.3601 - accuracy: 0.8692 - val_loss: 0.9330 - val_accuracy: 0.7382\n",
      "Epoch 19/100\n",
      "1407/1407 [==============================] - 20s 14ms/step - loss: 0.3493 - accuracy: 0.8736 - val_loss: 0.9836 - val_accuracy: 0.7266\n",
      "Epoch 20/100\n",
      "1407/1407 [==============================] - 20s 14ms/step - loss: 0.3322 - accuracy: 0.8809 - val_loss: 0.9756 - val_accuracy: 0.7360\n",
      "Epoch 21/100\n",
      "1407/1407 [==============================] - 20s 14ms/step - loss: 0.3241 - accuracy: 0.8819 - val_loss: 0.9086 - val_accuracy: 0.7438\n",
      "Epoch 22/100\n",
      "1407/1407 [==============================] - 20s 14ms/step - loss: 0.3176 - accuracy: 0.8834 - val_loss: 0.9439 - val_accuracy: 0.7370\n",
      "Epoch 23/100\n",
      "1407/1407 [==============================] - 20s 14ms/step - loss: 0.3031 - accuracy: 0.8901 - val_loss: 0.9478 - val_accuracy: 0.7492\n",
      "Epoch 24/100\n",
      "1407/1407 [==============================] - 20s 14ms/step - loss: 0.2929 - accuracy: 0.8931 - val_loss: 0.9463 - val_accuracy: 0.7430\n",
      "Epoch 25/100\n",
      "1407/1407 [==============================] - 20s 14ms/step - loss: 0.2785 - accuracy: 0.8988 - val_loss: 0.9560 - val_accuracy: 0.7428\n",
      "Epoch 26/100\n",
      "1407/1407 [==============================] - 20s 14ms/step - loss: 0.2734 - accuracy: 0.9000 - val_loss: 0.9817 - val_accuracy: 0.7498\n",
      "Epoch 27/100\n",
      "1407/1407 [==============================] - 20s 14ms/step - loss: 0.2730 - accuracy: 0.8999 - val_loss: 0.9825 - val_accuracy: 0.7488\n",
      "Epoch 28/100\n",
      "1407/1407 [==============================] - 20s 14ms/step - loss: 0.2553 - accuracy: 0.9051 - val_loss: 1.0153 - val_accuracy: 0.7454\n",
      "Epoch 29/100\n",
      "1407/1407 [==============================] - 20s 14ms/step - loss: 0.2500 - accuracy: 0.9092 - val_loss: 1.1435 - val_accuracy: 0.7230\n",
      "Epoch 30/100\n",
      "1407/1407 [==============================] - 20s 14ms/step - loss: 0.2409 - accuracy: 0.9115 - val_loss: 1.0035 - val_accuracy: 0.7548\n",
      "Epoch 31/100\n",
      "1407/1407 [==============================] - 20s 14ms/step - loss: 0.2334 - accuracy: 0.9138 - val_loss: 0.9687 - val_accuracy: 0.7516\n",
      "Epoch 32/100\n",
      "1407/1407 [==============================] - 20s 14ms/step - loss: 0.2274 - accuracy: 0.9149 - val_loss: 1.1000 - val_accuracy: 0.7386\n",
      "Epoch 33/100\n",
      "1407/1407 [==============================] - 20s 14ms/step - loss: 0.2203 - accuracy: 0.9199 - val_loss: 1.0057 - val_accuracy: 0.7558\n",
      "Epoch 34/100\n",
      "1407/1407 [==============================] - 20s 14ms/step - loss: 0.2129 - accuracy: 0.9231 - val_loss: 1.1019 - val_accuracy: 0.7534\n",
      "Epoch 35/100\n",
      "1407/1407 [==============================] - 20s 14ms/step - loss: 0.2078 - accuracy: 0.9243 - val_loss: 1.0539 - val_accuracy: 0.7498\n",
      "Epoch 36/100\n",
      "1407/1407 [==============================] - 20s 15ms/step - loss: 0.2008 - accuracy: 0.9271 - val_loss: 1.0653 - val_accuracy: 0.7466\n",
      "Epoch 37/100\n",
      "1407/1407 [==============================] - 21s 15ms/step - loss: 0.1927 - accuracy: 0.9305 - val_loss: 1.1250 - val_accuracy: 0.7480\n",
      "Epoch 38/100\n",
      "1407/1407 [==============================] - 20s 15ms/step - loss: 0.1901 - accuracy: 0.9293 - val_loss: 1.1700 - val_accuracy: 0.7412\n",
      "Epoch 39/100\n",
      "1407/1407 [==============================] - 20s 14ms/step - loss: 0.1893 - accuracy: 0.9297 - val_loss: 1.1467 - val_accuracy: 0.7468\n",
      "Epoch 40/100\n",
      "1407/1407 [==============================] - 20s 14ms/step - loss: 0.1786 - accuracy: 0.9344 - val_loss: 1.0991 - val_accuracy: 0.7514\n",
      "Epoch 41/100\n",
      "1407/1407 [==============================] - 20s 14ms/step - loss: 0.1765 - accuracy: 0.9357 - val_loss: 1.1855 - val_accuracy: 0.7358\n",
      "Epoch 42/100\n",
      "1407/1407 [==============================] - 20s 14ms/step - loss: 0.1735 - accuracy: 0.9372 - val_loss: 1.1024 - val_accuracy: 0.7522\n",
      "Epoch 43/100\n",
      "1407/1407 [==============================] - 20s 14ms/step - loss: 0.1715 - accuracy: 0.9379 - val_loss: 1.0686 - val_accuracy: 0.7536\n",
      "Epoch 44/100\n",
      "1407/1407 [==============================] - 20s 14ms/step - loss: 0.1634 - accuracy: 0.9409 - val_loss: 1.1778 - val_accuracy: 0.7456\n",
      "Epoch 45/100\n",
      "1407/1407 [==============================] - 20s 14ms/step - loss: 0.1614 - accuracy: 0.9407 - val_loss: 1.1735 - val_accuracy: 0.7494\n",
      "Epoch 46/100\n",
      "1407/1407 [==============================] - 20s 14ms/step - loss: 0.1586 - accuracy: 0.9416 - val_loss: 1.1592 - val_accuracy: 0.7530\n",
      "Epoch 47/100\n",
      "1407/1407 [==============================] - 20s 14ms/step - loss: 0.1530 - accuracy: 0.9449 - val_loss: 1.1793 - val_accuracy: 0.7542\n",
      "Epoch 48/100\n",
      "1407/1407 [==============================] - 20s 14ms/step - loss: 0.1505 - accuracy: 0.9440 - val_loss: 1.3816 - val_accuracy: 0.7322\n",
      "Epoch 49/100\n",
      "1407/1407 [==============================] - 20s 14ms/step - loss: 0.1518 - accuracy: 0.9442 - val_loss: 1.2434 - val_accuracy: 0.7486\n",
      "Epoch 50/100\n",
      "1407/1407 [==============================] - 20s 14ms/step - loss: 0.1471 - accuracy: 0.9453 - val_loss: 1.2769 - val_accuracy: 0.7360\n",
      "Epoch 51/100\n",
      "1407/1407 [==============================] - 20s 14ms/step - loss: 0.1461 - accuracy: 0.9461 - val_loss: 1.2448 - val_accuracy: 0.7558\n",
      "Epoch 52/100\n",
      "1407/1407 [==============================] - 20s 14ms/step - loss: 0.1397 - accuracy: 0.9504 - val_loss: 1.1805 - val_accuracy: 0.7582\n",
      "Epoch 53/100\n",
      "1407/1407 [==============================] - 20s 14ms/step - loss: 0.1350 - accuracy: 0.9510 - val_loss: 1.3884 - val_accuracy: 0.7302\n",
      "Epoch 54/100\n",
      "1407/1407 [==============================] - 20s 14ms/step - loss: 0.1308 - accuracy: 0.9524 - val_loss: 1.2781 - val_accuracy: 0.7514\n",
      "Epoch 55/100\n",
      "1407/1407 [==============================] - 20s 14ms/step - loss: 0.1283 - accuracy: 0.9526 - val_loss: 1.2644 - val_accuracy: 0.7458\n",
      "Epoch 56/100\n"
     ]
    },
    {
     "name": "stdout",
     "output_type": "stream",
     "text": [
      "1407/1407 [==============================] - 20s 14ms/step - loss: 0.1268 - accuracy: 0.9530 - val_loss: 1.3381 - val_accuracy: 0.7446\n",
      "Epoch 57/100\n",
      "1407/1407 [==============================] - 20s 14ms/step - loss: 0.1252 - accuracy: 0.9546 - val_loss: 1.2842 - val_accuracy: 0.7480\n",
      "Epoch 58/100\n",
      "1407/1407 [==============================] - 20s 14ms/step - loss: 0.1216 - accuracy: 0.9567 - val_loss: 1.4036 - val_accuracy: 0.7450\n",
      "Epoch 59/100\n",
      "1407/1407 [==============================] - 20s 14ms/step - loss: 0.1213 - accuracy: 0.9566 - val_loss: 1.4207 - val_accuracy: 0.7404\n",
      "Epoch 60/100\n",
      "1407/1407 [==============================] - 20s 14ms/step - loss: 0.1212 - accuracy: 0.9561 - val_loss: 1.3503 - val_accuracy: 0.7532\n",
      "Epoch 61/100\n",
      "1407/1407 [==============================] - 20s 14ms/step - loss: 0.1213 - accuracy: 0.9554 - val_loss: 1.3621 - val_accuracy: 0.7344\n",
      "Epoch 62/100\n",
      "1407/1407 [==============================] - 20s 14ms/step - loss: 0.1130 - accuracy: 0.9582 - val_loss: 1.3049 - val_accuracy: 0.7522\n",
      "Epoch 63/100\n",
      "1407/1407 [==============================] - 20s 14ms/step - loss: 0.1110 - accuracy: 0.9600 - val_loss: 1.4561 - val_accuracy: 0.7406\n",
      "Epoch 64/100\n",
      "1407/1407 [==============================] - 20s 15ms/step - loss: 0.1129 - accuracy: 0.9590 - val_loss: 1.3512 - val_accuracy: 0.7560\n",
      "Epoch 65/100\n",
      "1407/1407 [==============================] - 20s 14ms/step - loss: 0.1121 - accuracy: 0.9591 - val_loss: 1.3017 - val_accuracy: 0.7604\n",
      "Epoch 66/100\n",
      "1407/1407 [==============================] - 20s 14ms/step - loss: 0.1087 - accuracy: 0.9609 - val_loss: 1.3360 - val_accuracy: 0.7544\n",
      "Epoch 67/100\n",
      "1407/1407 [==============================] - 20s 14ms/step - loss: 0.1032 - accuracy: 0.9631 - val_loss: 1.3919 - val_accuracy: 0.7544\n",
      "Epoch 68/100\n",
      "1407/1407 [==============================] - 20s 14ms/step - loss: 0.1047 - accuracy: 0.9620 - val_loss: 1.4769 - val_accuracy: 0.7526\n",
      "Epoch 69/100\n",
      "1407/1407 [==============================] - 20s 14ms/step - loss: 0.1032 - accuracy: 0.9624 - val_loss: 1.4193 - val_accuracy: 0.7558\n",
      "Epoch 70/100\n",
      "1407/1407 [==============================] - 20s 14ms/step - loss: 0.0982 - accuracy: 0.9644 - val_loss: 1.4092 - val_accuracy: 0.7476\n",
      "Epoch 71/100\n",
      "1407/1407 [==============================] - 20s 14ms/step - loss: 0.0997 - accuracy: 0.9648 - val_loss: 1.3821 - val_accuracy: 0.7564\n",
      "Epoch 72/100\n",
      "1407/1407 [==============================] - 20s 14ms/step - loss: 0.0962 - accuracy: 0.9651 - val_loss: 1.4070 - val_accuracy: 0.7548\n",
      "Epoch 73/100\n",
      "1407/1407 [==============================] - 20s 14ms/step - loss: 0.0925 - accuracy: 0.9659 - val_loss: 1.4159 - val_accuracy: 0.7488\n",
      "Epoch 74/100\n",
      "1407/1407 [==============================] - 20s 14ms/step - loss: 0.0942 - accuracy: 0.9663 - val_loss: 1.4716 - val_accuracy: 0.7560\n",
      "Epoch 75/100\n",
      "1407/1407 [==============================] - 21s 15ms/step - loss: 0.0951 - accuracy: 0.9646 - val_loss: 1.4690 - val_accuracy: 0.7480\n",
      "Epoch 76/100\n",
      "1407/1407 [==============================] - 21s 15ms/step - loss: 0.0884 - accuracy: 0.9680 - val_loss: 1.4879 - val_accuracy: 0.7476\n",
      "Epoch 77/100\n",
      "1407/1407 [==============================] - 20s 14ms/step - loss: 0.0913 - accuracy: 0.9676 - val_loss: 1.6159 - val_accuracy: 0.7450\n",
      "Epoch 78/100\n",
      "1407/1407 [==============================] - 20s 14ms/step - loss: 0.0875 - accuracy: 0.9688 - val_loss: 1.4708 - val_accuracy: 0.7446\n",
      "Epoch 79/100\n",
      "1407/1407 [==============================] - 20s 14ms/step - loss: 0.0892 - accuracy: 0.9682 - val_loss: 1.4911 - val_accuracy: 0.7556\n",
      "Epoch 80/100\n",
      "1407/1407 [==============================] - 21s 15ms/step - loss: 0.0873 - accuracy: 0.9681 - val_loss: 1.5125 - val_accuracy: 0.7564\n",
      "Epoch 81/100\n",
      "1407/1407 [==============================] - 21s 15ms/step - loss: 0.0845 - accuracy: 0.9690 - val_loss: 1.4369 - val_accuracy: 0.7532\n",
      "Epoch 82/100\n",
      "1407/1407 [==============================] - 21s 15ms/step - loss: 0.0828 - accuracy: 0.9691 - val_loss: 1.5225 - val_accuracy: 0.7478\n",
      "Epoch 83/100\n",
      "1407/1407 [==============================] - 20s 14ms/step - loss: 0.0816 - accuracy: 0.9711 - val_loss: 1.5163 - val_accuracy: 0.7574\n",
      "Epoch 84/100\n",
      "1407/1407 [==============================] - 20s 14ms/step - loss: 0.0884 - accuracy: 0.9675 - val_loss: 1.4547 - val_accuracy: 0.7580\n",
      "Epoch 85/100\n",
      "1407/1407 [==============================] - 20s 14ms/step - loss: 0.0785 - accuracy: 0.9718 - val_loss: 1.4829 - val_accuracy: 0.7548\n",
      "Epoch 86/100\n",
      "1407/1407 [==============================] - 20s 14ms/step - loss: 0.0814 - accuracy: 0.9707 - val_loss: 1.5357 - val_accuracy: 0.7424\n",
      "Epoch 87/100\n",
      "1407/1407 [==============================] - 21s 15ms/step - loss: 0.0829 - accuracy: 0.9701 - val_loss: 1.4987 - val_accuracy: 0.7524\n",
      "Epoch 88/100\n",
      "1407/1407 [==============================] - 20s 14ms/step - loss: 0.0802 - accuracy: 0.9708 - val_loss: 1.5887 - val_accuracy: 0.7510\n",
      "Epoch 89/100\n",
      "1407/1407 [==============================] - 20s 14ms/step - loss: 0.0760 - accuracy: 0.9728 - val_loss: 1.5716 - val_accuracy: 0.7518\n",
      "Epoch 90/100\n",
      "1407/1407 [==============================] - 20s 14ms/step - loss: 0.0766 - accuracy: 0.9723 - val_loss: 1.5008 - val_accuracy: 0.7562\n",
      "Epoch 91/100\n",
      "1407/1407 [==============================] - 20s 14ms/step - loss: 0.0787 - accuracy: 0.9716 - val_loss: 1.5337 - val_accuracy: 0.7574\n",
      "Epoch 92/100\n",
      "1407/1407 [==============================] - 20s 14ms/step - loss: 0.0775 - accuracy: 0.9721 - val_loss: 1.6148 - val_accuracy: 0.7506\n",
      "Epoch 93/100\n",
      "1407/1407 [==============================] - 20s 14ms/step - loss: 0.0715 - accuracy: 0.9743 - val_loss: 1.6283 - val_accuracy: 0.7520\n",
      "Epoch 94/100\n",
      "1407/1407 [==============================] - 20s 14ms/step - loss: 0.0742 - accuracy: 0.9736 - val_loss: 1.6262 - val_accuracy: 0.7508\n",
      "Epoch 95/100\n",
      "1407/1407 [==============================] - 20s 14ms/step - loss: 0.0695 - accuracy: 0.9740 - val_loss: 1.6662 - val_accuracy: 0.7480\n",
      "Epoch 96/100\n",
      "1407/1407 [==============================] - 20s 14ms/step - loss: 0.0744 - accuracy: 0.9733 - val_loss: 1.6426 - val_accuracy: 0.7392\n",
      "Epoch 97/100\n",
      "1407/1407 [==============================] - 20s 14ms/step - loss: 0.0786 - accuracy: 0.9715 - val_loss: 1.5559 - val_accuracy: 0.7502\n",
      "Epoch 98/100\n",
      "1407/1407 [==============================] - 20s 14ms/step - loss: 0.0736 - accuracy: 0.9732 - val_loss: 1.7147 - val_accuracy: 0.7440\n",
      "Epoch 99/100\n",
      "1407/1407 [==============================] - 20s 14ms/step - loss: 0.0705 - accuracy: 0.9745 - val_loss: 1.6283 - val_accuracy: 0.7440\n",
      "Epoch 100/100\n",
      "1407/1407 [==============================] - 20s 14ms/step - loss: 0.0694 - accuracy: 0.9749 - val_loss: 1.6079 - val_accuracy: 0.7570\n"
     ]
    }
   ],
   "source": [
    "nn = model.fit(x_train,y_train,batch_size=32,epochs=100,validation_split=0.1)"
   ]
  },
  {
   "cell_type": "code",
   "execution_count": 36,
   "id": "412c5f5c",
   "metadata": {},
   "outputs": [],
   "source": [
    "loss = nn.history['loss']"
   ]
  },
  {
   "cell_type": "code",
   "execution_count": 37,
   "id": "bc1d1392",
   "metadata": {},
   "outputs": [],
   "source": [
    "acc = nn.history['accuracy']"
   ]
  },
  {
   "cell_type": "code",
   "execution_count": 38,
   "id": "82f1c805",
   "metadata": {},
   "outputs": [
    {
     "data": {
      "text/plain": [
       "[<matplotlib.lines.Line2D at 0x7ff010e77b80>]"
      ]
     },
     "execution_count": 38,
     "metadata": {},
     "output_type": "execute_result"
    },
    {
     "data": {
      "image/png": "[encoded data removed]",
      "text/plain": [
       "<Figure size 432x288 with 1 Axes>"
      ]
     },
     "metadata": {
      "needs_background": "light"
     },
     "output_type": "display_data"
    }
   ],
   "source": [
    "plt.plot(loss, c = 'green')\n",
    "plt.plot(acc, c = 'red')"
   ]
  },
  {
   "cell_type": "code",
   "execution_count": 39,
   "id": "9c05544d",
   "metadata": {},
   "outputs": [
    {
     "name": "stdout",
     "output_type": "stream",
     "text": [
      "313/313 [==============================] - 2s 6ms/step\n"
     ]
    }
   ],
   "source": [
    "y_pred = model.predict(x_test)"
   ]
  },
  {
   "cell_type": "code",
   "execution_count": 40,
   "id": "51e25ce3",
   "metadata": {},
   "outputs": [
    {
     "name": "stdout",
     "output_type": "stream",
     "text": [
      "313/313 [==============================] - 2s 6ms/step - loss: 1.6556 - accuracy: 0.7425\n"
     ]
    }
   ],
   "source": [
    "acc = model.evaluate(x_test,y_test)[1]"
   ]
  },
  {
   "cell_type": "code",
   "execution_count": 41,
   "id": "b501df0f",
   "metadata": {},
   "outputs": [
    {
     "name": "stdout",
     "output_type": "stream",
     "text": [
      "Accuracy in testing data is :  0.7425000071525574\n"
     ]
    }
   ],
   "source": [
    "print(\"Accuracy in testing data is : \", acc)"
   ]
  },
  {
   "cell_type": "code",
   "execution_count": 42,
   "id": "c083f735",
   "metadata": {},
   "outputs": [],
   "source": [
    "import pickle"
   ]
  },
  {
   "cell_type": "code",
   "execution_count": 43,
   "id": "e59d1704",
   "metadata": {},
   "outputs": [
    {
     "name": "stderr",
     "output_type": "stream",
     "text": [
      "WARNING:absl:Found untraced functions such as _jit_compiled_convolution_op, _jit_compiled_convolution_op, _jit_compiled_convolution_op while saving (showing 3 of 3). These functions will not be directly callable after loading.\n"
     ]
    },
    {
     "name": "stdout",
     "output_type": "stream",
     "text": [
      "INFO:tensorflow:Assets written to: ram://b2b8b801-d5bd-4101-a159-fd9c6e0806fe/assets\n"
     ]
    },
    {
     "name": "stderr",
     "output_type": "stream",
     "text": [
      "INFO:tensorflow:Assets written to: ram://b2b8b801-d5bd-4101-a159-fd9c6e0806fe/assets\n"
     ]
    }
   ],
   "source": [
    "pickle.dump(model, open('CIFAR_Classififier.pkl', 'wb'))"
   ]
  },
  {
   "cell_type": "code",
   "execution_count": null,
   "id": "cb7f811d",
   "metadata": {},
   "outputs": [],
   "source": []
  }
 ],
 "metadata": {
  "kernelspec": {
   "display_name": "Python 3 (ipykernel)",
   "language": "python",
   "name": "python3"
  },
  "language_info": {
   "codemirror_mode": {
    "name": "ipython",
    "version": 3
   },
   "file_extension": ".py",
   "mimetype": "text/x-python",
   "name": "python",
   "nbconvert_exporter": "python",
   "pygments_lexer": "ipython3",
   "version": "3.9.12"
  }
 },
 "nbformat": 4,
 "nbformat_minor": 5
}
